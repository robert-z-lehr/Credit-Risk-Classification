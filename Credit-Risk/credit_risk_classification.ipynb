{
 "cells": [
  {
   "cell_type": "markdown",
   "metadata": {},
   "source": [
    "# Credit Risk Classification\n",
    "\n",
    "In this project, we'll use various techniques to train and evaluate a model based on loan risk. We'll work with a dataset of historical lending activity from a peer-to-peer lending services company to build a model that can identify the creditworthiness of borrowers.\n",
    "\n",
    "## Before You Begin\n",
    "\n",
    "1. Create a new repository for this project called `credit-risk-classification`. Do not add this homework to an existing repository.\n",
    "\n",
    "2. Clone the new repository to your computer.\n",
    "\n",
    "3. Inside your `credit-risk-classification` repository, create a folder titled `Credit_Risk`.\n",
    "\n",
    "4. Inside the `Credit_Risk` folder, add the `credit_risk_classification.ipynb` and `lending_data.csv` files found in the `Starter_Code.zip` file.\n",
    "\n",
    "5. Push your changes to GitHub.\n",
    "\n",
    "## Files\n",
    "\n",
    "Download the following files to help you get started:\n",
    "\n",
    "[Module 20 Challenge files](https://example.com) (Replace this with the actual link to download the files)\n",
    "\n",
    "## Instructions\n",
    "\n",
    "### Split the Data into Training and Testing Sets\n",
    "\n",
    "1. Open the `credit_risk_classification.ipynb` notebook and use it to complete the following steps:\n",
    "\n",
    "2. Read the `lending_data.csv` data from the `Resources` folder into a Pandas DataFrame.\n",
    "\n",
    "3. Create the labels set (`y`) from the \"loan_status\" column, and then create the features (`X`) DataFrame from the remaining columns.\n",
    "\n",
    "   NOTE: A value of 0 in the \"loan_status\" column means that the loan is healthy. A value of 1 means that the loan has a high risk of defaulting.\n",
    "\n",
    "4. Split the data into training and testing datasets using `train_test_split`.\n",
    "\n",
    "### Create a Logistic Regression Model with the Original Data\n",
    "\n",
    "1. Use your knowledge of logistic regression to complete the following steps:\n",
    "\n",
    "2. Fit a logistic regression model using the training data (`X_train` and `y_train`).\n",
    "\n",
    "3. Save the predictions for the testing data labels by using the testing feature data (`X_test`) and the fitted model.\n",
    "\n",
    "4. Evaluate the model's performance by doing the following:\n",
    "\n",
    "   - Generate a confusion matrix.\n",
    "   - Print the classification report.\n",
    "\n",
    "5. Answer the following question: How well does the logistic regression model predict both the 0 (healthy loan) and 1 (high-risk loan) labels?\n",
    "\n",
    "### Write a Credit Risk Analysis Report\n",
    "\n",
    "Write a brief report that includes a summary and analysis of the performance of the machine learning models used in this project. The report should be written as the `README.md` file included in your GitHub repository.\n",
    "\n",
    "#### Structure of the Report\n",
    "\n",
    "1. An overview of the analysis: Explain the purpose of this analysis.\n",
    "\n",
    "2. The results: Using a bulleted list, describe the accuracy score, the precision score, and recall score of the machine learning model.\n",
    "\n",
    "3. A summary: Summarize the results from the machine learning model. Include your justification for recommending the model for use by the company. If you don’t recommend the model, justify your reasoning.\n",
    "\n",
    "## Requirements\n",
    "\n",
    "### Split the Data into Training and Testing Sets (30 points)\n",
    "\n",
    "To receive all points, you must:\n",
    "\n",
    "- Read the `lending_data.csv` data from the `Resources` folder into a Pandas DataFrame. (5 points)\n",
    "- Create the labels set (`y`) from the \"loan_status\" column, and then create the features (`X`) DataFrame from the remaining columns. (10 points)\n",
    "- Split the data into training and testing datasets using `train_test_split`. (15 points)\n",
    "\n",
    "### Create a Logistic Regression Model (30 points)\n",
    "\n",
    "To receive all points, you must:\n",
    "\n",
    "- Fit a logistic regression model using the training data (`X_train` and `y_train`). (10 points)\n",
    "- Save the predictions for the testing data labels by using the testing feature data (`X_test`) and the fitted model. (5 points)\n",
    "- Evaluate the model's performance by doing the following:\n",
    "  - Generate a confusion matrix. (5 points)\n",
    "  - Generate a classification report. (5 points)\n",
    "- Answer the following question: How well does the logistic regression model predict both the 0 (healthy loan) and 1 (high-risk loan) labels? (5 points)\n",
    "\n",
    "### Write a Credit Risk Analysis Report (20 points)\n",
    "\n",
    "To receive all points, you must:\n",
    "\n",
    "- Provide an overview that explains the purpose of this analysis. (5 points)\n",
    "- Using a bulleted list, describe the accuracy, precision, and recall scores of the machine learning model. (5 points)\n",
    "- Summarize the results from the machine learning model. Include your justification for recommending the model for use by the company. If you don’t recommend the model, justify your reasoning. (10 points)\n",
    "\n",
    "### Coding Conventions and Formatting (10 points)\n",
    "\n",
    "To receive all points, you must:\n",
    "\n",
    "- Place imports at the top of the file, just after any module comments and docstrings and before module globals and constants. (3 points)\n",
    "- Name functions and variables with lowercase characters, with words separated by underscores. (2 points)\n",
    "- Follow DRY (Don't Repeat Yourself) principles, creating maintainable and reusable code. (3 points)\n",
    "- Use concise logic and creative engineering where possible. (2 points)\n",
    "\n",
    "### Code Comments (10 points)\n",
    "\n",
    "To receive all points, your code must:\n",
    "\n",
    "- Be well-commented with concise, relevant notes that other developers can understand. (10 points)\n",
    "\n",
    "---\n",
    "\n",
    "Please replace the placeholder link with the actual link to download the files for the project. Also, make sure to include the necessary code and analysis details in the `credit_risk_classification.ipynb` notebook as per the instructions given in the challenge."
   ]
  },
  {
   "cell_type": "markdown",
   "metadata": {},
   "source": [
    "### General Outline:\n",
    "\n",
    "1. **Data Preparation:**\n",
    "   - Read the dataset `lending_data.csv` into a Pandas DataFrame.\n",
    "   - Create the features (`X`) and labels (`y`) by separating the target column \"loan_status\" from the remaining columns.\n",
    "   - Check for missing values and handle them if necessary.\n",
    "\n",
    "2. **Split Data into Training and Testing Sets:**\n",
    "   - Split the data into training and testing sets using `train_test_split` from scikit-learn.\n",
    "\n",
    "3. **Build and Train a Logistic Regression Model:**\n",
    "   - Import the necessary libraries, including `LogisticRegression` from scikit-learn.\n",
    "   - Create an instance of the `LogisticRegression` model.\n",
    "   - Train the model using the training data.\n",
    "\n",
    "4. **Make Predictions and Evaluate the Model:**\n",
    "   - Use the trained model to make predictions on the test data.\n",
    "   - Evaluate the model's performance using metrics like accuracy, precision, recall, and confusion matrix.\n",
    "\n",
    "5. **Write the Credit Risk Analysis Report (README.md):**\n",
    "   - Provide an overview explaining the purpose of the analysis.\n",
    "   - Summarize the accuracy, precision, and recall scores of the logistic regression model.\n",
    "   - Include a summary of the results from the machine learning model and your justification for recommending or not recommending the model for use by the company.\n",
    "\n",
    "### Code Snippets:\n",
    "\n",
    "Below are some code snippets that you can use as a starting point. Remember to replace placeholders such as file paths and variable names with your specific information:\n",
    "\n",
    "```python\n",
    "import pandas as pd\n",
    "from sklearn.model_selection import train_test_split\n",
    "from sklearn.linear_model import LogisticRegression\n",
    "from sklearn.metrics import accuracy_score, precision_score, recall_score, confusion_matrix, classification_report\n",
    "\n",
    "# Read the dataset into a DataFrame\n",
    "data = pd.read_csv('path_to_data/lending_data.csv')\n",
    "\n",
    "# Create features (X) and labels (y)\n",
    "X = data.drop('loan_status', axis=1)\n",
    "y = data['loan_status']\n",
    "\n",
    "# Split the data into training and testing sets\n",
    "X_train, X_test, y_train, y_test = train_test_split(X, y, test_size=0.2, random_state=42)\n",
    "\n",
    "# Create and train a logistic regression model\n",
    "model = LogisticRegression()\n",
    "model.fit(X_train, y_train)\n",
    "\n",
    "# Make predictions on the test data\n",
    "y_pred = model.predict(X_test)\n",
    "\n",
    "# Evaluate the model's performance\n",
    "accuracy = accuracy_score(y_test, y_pred)\n",
    "precision = precision_score(y_test, y_pred)\n",
    "recall = recall_score(y_test, y_pred)\n",
    "conf_matrix = confusion_matrix(y_test, y_pred)\n",
    "classification_rep = classification_report(y_test, y_pred)\n",
    "\n",
    "# Print the evaluation metrics\n",
    "print(f'Accuracy: {accuracy:.2f}')\n",
    "print(f'Precision: {precision:.2f}')\n",
    "print(f'Recall: {recall:.2f}')\n",
    "print('Confusion Matrix:')\n",
    "print(conf_matrix)\n",
    "print('Classification Report:')\n",
    "print(classification_rep)\n",
    "```\n",
    "\n",
    "Remember to customize the code based on your specific dataset, file paths, and variable names. Also, ensure that you have installed the required libraries (pandas, scikit-learn) using `pip` before running the code.\n",
    "\n",
    "Finally, write the Credit Risk Analysis Report in the `README.md` file in your GitHub repository, following the structure mentioned in the original instructions.\n",
    "\n",
    "Good luck with your project! If you encounter any specific issues or need further guidance, feel free to ask."
   ]
  },
  {
   "cell_type": "code",
   "execution_count": 1,
   "metadata": {},
   "outputs": [],
   "source": [
    "# Import the modules\n",
    "import numpy as np\n",
    "import pandas as pd\n",
    "from pathlib import Path\n",
    "from sklearn.metrics import balanced_accuracy_score, confusion_matrix, classification_report"
   ]
  },
  {
   "cell_type": "markdown",
   "metadata": {},
   "source": [
    "---"
   ]
  },
  {
   "cell_type": "markdown",
   "metadata": {},
   "source": [
    "## Split the Data into Training and Testing Sets"
   ]
  },
  {
   "cell_type": "markdown",
   "metadata": {},
   "source": [
    "### Step 1: Read the `lending_data.csv` data from the `Resources` folder into a Pandas DataFrame."
   ]
  },
  {
   "cell_type": "code",
   "execution_count": 2,
   "metadata": {},
   "outputs": [],
   "source": [
    "# Read the CSV file from the Resources folder into a Pandas DataFrame\n",
    "# YOUR CODE HERE!\n",
    "\n",
    "# Review the DataFrame\n",
    "# YOUR CODE HERE!"
   ]
  },
  {
   "cell_type": "markdown",
   "metadata": {},
   "source": [
    "### Step 2: Create the labels set (`y`)  from the “loan_status” column, and then create the features (`X`) DataFrame from the remaining columns."
   ]
  },
  {
   "cell_type": "code",
   "execution_count": 3,
   "metadata": {},
   "outputs": [],
   "source": [
    "# Separate the data into labels and features\n",
    "\n",
    "# Separate the y variable, the labels\n",
    "# YOUR CODE HERE!]\n",
    "\n",
    "# Separate the X variable, the features\n",
    "# YOUR CODE HERE!"
   ]
  },
  {
   "cell_type": "code",
   "execution_count": 4,
   "metadata": {},
   "outputs": [],
   "source": [
    "# Review the y variable Series\n",
    "# YOUR CODE HERE!"
   ]
  },
  {
   "cell_type": "code",
   "execution_count": 5,
   "metadata": {},
   "outputs": [],
   "source": [
    "# Review the X variable DataFrame\n",
    "# YOUR CODE HERE!"
   ]
  },
  {
   "cell_type": "markdown",
   "metadata": {},
   "source": [
    "### Step 3: Check the balance of the labels variable (`y`) by using the `value_counts` function."
   ]
  },
  {
   "cell_type": "code",
   "execution_count": 6,
   "metadata": {},
   "outputs": [],
   "source": [
    "# Check the balance of our target values\n",
    "# YOUR CODE HERE!"
   ]
  },
  {
   "cell_type": "markdown",
   "metadata": {},
   "source": [
    "### Step 4: Split the data into training and testing datasets by using `train_test_split`."
   ]
  },
  {
   "cell_type": "code",
   "execution_count": 7,
   "metadata": {},
   "outputs": [],
   "source": [
    "# Import the train_test_learn module\n",
    "from sklearn.model_selection import train_test_split\n",
    "\n",
    "# Split the data using train_test_split\n",
    "# Assign a random_state of 1 to the function\n",
    "# YOUR CODE HERE!"
   ]
  },
  {
   "cell_type": "markdown",
   "metadata": {},
   "source": [
    "---"
   ]
  },
  {
   "cell_type": "markdown",
   "metadata": {},
   "source": [
    "## Create a Logistic Regression Model with the Original Data"
   ]
  },
  {
   "cell_type": "markdown",
   "metadata": {},
   "source": [
    "###  Step 1: Fit a logistic regression model by using the training data (`X_train` and `y_train`)."
   ]
  },
  {
   "cell_type": "code",
   "execution_count": 8,
   "metadata": {},
   "outputs": [],
   "source": [
    "# Import the LogisticRegression module from SKLearn\n",
    "from sklearn.linear_model import LogisticRegression\n",
    "\n",
    "# Instantiate the Logistic Regression model\n",
    "# Assign a random_state parameter of 1 to the model\n",
    "# YOUR CODE HERE!\n",
    "\n",
    "# Fit the model using training data\n",
    "# YOUR CODE HERE!"
   ]
  },
  {
   "cell_type": "markdown",
   "metadata": {},
   "source": [
    "### Step 2: Save the predictions on the testing data labels by using the testing feature data (`X_test`) and the fitted model."
   ]
  },
  {
   "cell_type": "code",
   "execution_count": 9,
   "metadata": {},
   "outputs": [],
   "source": [
    "# Make a prediction using the testing data\n",
    "# YOUR CODE HERE!"
   ]
  },
  {
   "cell_type": "markdown",
   "metadata": {},
   "source": [
    "### Step 3: Evaluate the model’s performance by doing the following:\n",
    "\n",
    "* Calculate the accuracy score of the model.\n",
    "\n",
    "* Generate a confusion matrix.\n",
    "\n",
    "* Print the classification report."
   ]
  },
  {
   "cell_type": "code",
   "execution_count": 10,
   "metadata": {},
   "outputs": [],
   "source": [
    "# Print the balanced_accuracy score of the model\n",
    "# YOUR CODE HERE!"
   ]
  },
  {
   "cell_type": "code",
   "execution_count": 11,
   "metadata": {},
   "outputs": [],
   "source": [
    "# Generate a confusion matrix for the model\n",
    "# YOUR CODE HERE!"
   ]
  },
  {
   "cell_type": "code",
   "execution_count": 12,
   "metadata": {},
   "outputs": [],
   "source": [
    "# Print the classification report for the model\n",
    "# YOUR CODE HERE!"
   ]
  },
  {
   "cell_type": "markdown",
   "metadata": {},
   "source": [
    "### Step 4: Answer the following question."
   ]
  },
  {
   "cell_type": "markdown",
   "metadata": {},
   "source": [
    "**Question:** How well does the logistic regression model predict both the `0` (healthy loan) and `1` (high-risk loan) labels?\n",
    "\n",
    "**Answer:** WRITE YOUR ANSWER HERE!"
   ]
  },
  {
   "cell_type": "markdown",
   "metadata": {},
   "source": [
    "---"
   ]
  },
  {
   "cell_type": "markdown",
   "metadata": {},
   "source": [
    "## Predict a Logistic Regression Model with Resampled Training Data"
   ]
  },
  {
   "cell_type": "markdown",
   "metadata": {},
   "source": [
    "### Step 1: Use the `RandomOverSampler` module from the imbalanced-learn library to resample the data. Be sure to confirm that the labels have an equal number of data points. "
   ]
  },
  {
   "cell_type": "code",
   "execution_count": 13,
   "metadata": {},
   "outputs": [
    {
     "ename": "ModuleNotFoundError",
     "evalue": "No module named 'imblearn'",
     "output_type": "error",
     "traceback": [
      "\u001b[0;31m---------------------------------------------------------------------------\u001b[0m",
      "\u001b[0;31mModuleNotFoundError\u001b[0m                       Traceback (most recent call last)",
      "\u001b[0;32m/var/folders/3f/8c_y2wf506376ylmkn2jrcvwds1jbr/T/ipykernel_15517/2969427.py\u001b[0m in \u001b[0;36m<module>\u001b[0;34m\u001b[0m\n\u001b[1;32m      1\u001b[0m \u001b[0;31m# Import the RandomOverSampler module form imbalanced-learn\u001b[0m\u001b[0;34m\u001b[0m\u001b[0;34m\u001b[0m\u001b[0;34m\u001b[0m\u001b[0m\n\u001b[0;32m----> 2\u001b[0;31m \u001b[0;32mfrom\u001b[0m \u001b[0mimblearn\u001b[0m\u001b[0;34m.\u001b[0m\u001b[0mover_sampling\u001b[0m \u001b[0;32mimport\u001b[0m \u001b[0mRandomOverSampler\u001b[0m\u001b[0;34m\u001b[0m\u001b[0;34m\u001b[0m\u001b[0m\n\u001b[0m\u001b[1;32m      3\u001b[0m \u001b[0;34m\u001b[0m\u001b[0m\n\u001b[1;32m      4\u001b[0m \u001b[0;31m# Instantiate the random oversampler model\u001b[0m\u001b[0;34m\u001b[0m\u001b[0;34m\u001b[0m\u001b[0;34m\u001b[0m\u001b[0m\n\u001b[1;32m      5\u001b[0m \u001b[0;31m# # Assign a random_state parameter of 1 to the model\u001b[0m\u001b[0;34m\u001b[0m\u001b[0;34m\u001b[0m\u001b[0;34m\u001b[0m\u001b[0m\n",
      "\u001b[0;31mModuleNotFoundError\u001b[0m: No module named 'imblearn'"
     ]
    }
   ],
   "source": [
    "# Import the RandomOverSampler module form imbalanced-learn\n",
    "from imblearn.over_sampling import RandomOverSampler\n",
    "\n",
    "# Instantiate the random oversampler model\n",
    "# # Assign a random_state parameter of 1 to the model\n",
    "# YOUR CODE HERE!\n",
    "\n",
    "# Fit the original training data to the random_oversampler model\n",
    "# YOUR CODE HERE!"
   ]
  },
  {
   "cell_type": "code",
   "execution_count": null,
   "metadata": {},
   "outputs": [],
   "source": [
    "# Count the distinct values of the resampled labels data\n",
    "# YOUR CODE HERE!"
   ]
  },
  {
   "cell_type": "markdown",
   "metadata": {},
   "source": [
    "### Step 2: Use the `LogisticRegression` classifier and the resampled data to fit the model and make predictions."
   ]
  },
  {
   "cell_type": "code",
   "execution_count": null,
   "metadata": {},
   "outputs": [],
   "source": [
    "# Instantiate the Logistic Regression model\n",
    "# Assign a random_state parameter of 1 to the model\n",
    "# YOUR CODE HERE!\n",
    "\n",
    "# Fit the model using the resampled training data\n",
    "# YOUR CODE HERE!\n",
    "\n",
    "# Make a prediction using the testing data\n",
    "# YOUR CODE HERE!"
   ]
  },
  {
   "cell_type": "markdown",
   "metadata": {},
   "source": [
    "### Step 3: Evaluate the model’s performance by doing the following:\n",
    "\n",
    "* Calculate the accuracy score of the model.\n",
    "\n",
    "* Generate a confusion matrix.\n",
    "\n",
    "* Print the classification report."
   ]
  },
  {
   "cell_type": "code",
   "execution_count": null,
   "metadata": {},
   "outputs": [],
   "source": [
    "# Print the balanced_accuracy score of the model \n",
    "# YOUR CODE HERE!"
   ]
  },
  {
   "cell_type": "code",
   "execution_count": null,
   "metadata": {},
   "outputs": [],
   "source": [
    "# Generate a confusion matrix for the model\n",
    "# YOUR CODE HERE!"
   ]
  },
  {
   "cell_type": "code",
   "execution_count": null,
   "metadata": {},
   "outputs": [],
   "source": [
    "# Print the classification report for the model\n",
    "# YOUR CODE HERE!"
   ]
  },
  {
   "cell_type": "markdown",
   "metadata": {},
   "source": [
    "### Step 4: Answer the following question"
   ]
  },
  {
   "cell_type": "markdown",
   "metadata": {},
   "source": [
    "**Question:** How well does the logistic regression model, fit with oversampled data, predict both the `0` (healthy loan) and `1` (high-risk loan) labels?\n",
    "\n",
    "**Answer:** YOUR ANSWER HERE!"
   ]
  }
 ],
 "metadata": {
  "kernelspec": {
   "display_name": "PythonData",
   "language": "python",
   "name": "pythondata"
  },
  "language_info": {
   "codemirror_mode": {
    "name": "ipython",
    "version": 3
   },
   "file_extension": ".py",
   "mimetype": "text/x-python",
   "name": "python",
   "nbconvert_exporter": "python",
   "pygments_lexer": "ipython3",
   "version": "3.7.7"
  },
  "vscode": {
   "interpreter": {
    "hash": "31f2aee4e71d21fbe5cf8b01ff0e069b9275f58929596ceb00d14d90e3e16cd6"
   }
  }
 },
 "nbformat": 4,
 "nbformat_minor": 4
}
