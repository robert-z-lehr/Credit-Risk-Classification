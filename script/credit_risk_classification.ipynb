{
 "cells": [
  {
   "cell_type": "markdown",
   "metadata": {},
   "source": [
    "# Credit Risk Classification\n",
    "\n",
    "In this project, we'll use various techniques to train and evaluate a model based on loan risk. We'll work with a dataset of historical lending activity from a peer-to-peer lending services company to build a model that can identify the creditworthiness of borrowers."
   ]
  },
  {
   "cell_type": "markdown",
   "metadata": {},
   "source": [
    "### Importing the Necessary Libraries and Modules\n",
    "Imports required libraries and modules for data manipulation, machine learning, and evaluation."
   ]
  },
  {
   "cell_type": "code",
   "execution_count": 6,
   "metadata": {},
   "outputs": [],
   "source": [
    "# Import the modules\n",
    "import numpy as np\n",
    "import pandas as pd\n",
    "from pathlib import Path\n",
    "from sklearn.metrics import balanced_accuracy_score, confusion_matrix, classification_report\n",
    "from sklearn.model_selection import train_test_split\n",
    "from sklearn.linear_model import LogisticRegression\n",
    "from imblearn.over_sampling import RandomOverSampler"
   ]
  },
  {
   "cell_type": "markdown",
   "metadata": {},
   "source": [
    "---"
   ]
  },
  {
   "cell_type": "markdown",
   "metadata": {},
   "source": [
    "### Reading CSV File and Reviewing DataFrame\n",
    "- Read the CSV file in `Resources/lending_Data.csv` into a Pandas DataFrame.\n",
    "- Display the first few rows of the DataFrame `df_lending_data` to get an overview of the data."
   ]
  },
  {
   "cell_type": "code",
   "execution_count": 7,
   "metadata": {},
   "outputs": [
    {
     "data": {
      "text/html": [
       "<div>\n",
       "<style scoped>\n",
       "    .dataframe tbody tr th:only-of-type {\n",
       "        vertical-align: middle;\n",
       "    }\n",
       "\n",
       "    .dataframe tbody tr th {\n",
       "        vertical-align: top;\n",
       "    }\n",
       "\n",
       "    .dataframe thead th {\n",
       "        text-align: right;\n",
       "    }\n",
       "</style>\n",
       "<table border=\"1\" class=\"dataframe\">\n",
       "  <thead>\n",
       "    <tr style=\"text-align: right;\">\n",
       "      <th></th>\n",
       "      <th>loan_size</th>\n",
       "      <th>interest_rate</th>\n",
       "      <th>borrower_income</th>\n",
       "      <th>debt_to_income</th>\n",
       "      <th>num_of_accounts</th>\n",
       "      <th>derogatory_marks</th>\n",
       "      <th>total_debt</th>\n",
       "      <th>loan_status</th>\n",
       "    </tr>\n",
       "  </thead>\n",
       "  <tbody>\n",
       "    <tr>\n",
       "      <th>0</th>\n",
       "      <td>10700.0</td>\n",
       "      <td>7.672</td>\n",
       "      <td>52800</td>\n",
       "      <td>0.431818</td>\n",
       "      <td>5</td>\n",
       "      <td>1</td>\n",
       "      <td>22800</td>\n",
       "      <td>0</td>\n",
       "    </tr>\n",
       "    <tr>\n",
       "      <th>1</th>\n",
       "      <td>8400.0</td>\n",
       "      <td>6.692</td>\n",
       "      <td>43600</td>\n",
       "      <td>0.311927</td>\n",
       "      <td>3</td>\n",
       "      <td>0</td>\n",
       "      <td>13600</td>\n",
       "      <td>0</td>\n",
       "    </tr>\n",
       "    <tr>\n",
       "      <th>2</th>\n",
       "      <td>9000.0</td>\n",
       "      <td>6.963</td>\n",
       "      <td>46100</td>\n",
       "      <td>0.349241</td>\n",
       "      <td>3</td>\n",
       "      <td>0</td>\n",
       "      <td>16100</td>\n",
       "      <td>0</td>\n",
       "    </tr>\n",
       "    <tr>\n",
       "      <th>3</th>\n",
       "      <td>10700.0</td>\n",
       "      <td>7.664</td>\n",
       "      <td>52700</td>\n",
       "      <td>0.430740</td>\n",
       "      <td>5</td>\n",
       "      <td>1</td>\n",
       "      <td>22700</td>\n",
       "      <td>0</td>\n",
       "    </tr>\n",
       "    <tr>\n",
       "      <th>4</th>\n",
       "      <td>10800.0</td>\n",
       "      <td>7.698</td>\n",
       "      <td>53000</td>\n",
       "      <td>0.433962</td>\n",
       "      <td>5</td>\n",
       "      <td>1</td>\n",
       "      <td>23000</td>\n",
       "      <td>0</td>\n",
       "    </tr>\n",
       "  </tbody>\n",
       "</table>\n",
       "</div>"
      ],
      "text/plain": [
       "   loan_size  interest_rate  borrower_income  debt_to_income  num_of_accounts  \\\n",
       "0    10700.0          7.672            52800        0.431818                5   \n",
       "1     8400.0          6.692            43600        0.311927                3   \n",
       "2     9000.0          6.963            46100        0.349241                3   \n",
       "3    10700.0          7.664            52700        0.430740                5   \n",
       "4    10800.0          7.698            53000        0.433962                5   \n",
       "\n",
       "   derogatory_marks  total_debt  loan_status  \n",
       "0                 1       22800            0  \n",
       "1                 0       13600            0  \n",
       "2                 0       16100            0  \n",
       "3                 1       22700            0  \n",
       "4                 1       23000            0  "
      ]
     },
     "execution_count": 7,
     "metadata": {},
     "output_type": "execute_result"
    }
   ],
   "source": [
    "# Read the CSV file from the Resources folder into a Pandas DataFrame\n",
    "df_lending_data = pd.read_csv('../data/lending-data.csv')\n",
    "\n",
    "# Review the DataFrame\n",
    "df_lending_data.head()"
   ]
  },
  {
   "cell_type": "markdown",
   "metadata": {},
   "source": [
    "### Separating Labels and Features\n",
    "- Separates data into labels (`y`) and features (`X`) from `df_lending_data`.\n",
    "\n",
    "**Note:**\n",
    "- The variable name `X` is often written in capital case (uppercase) to indicate that it represents arrays or data structures that are used for specific purposes in machine learning or statistical modeling.\n",
    "- In many machine learning contexts, it is convention to use `y` to represent the dependent variable (target variable or labels), and `X` to represent the independent variables (features or predictors)."
   ]
  },
  {
   "cell_type": "code",
   "execution_count": 8,
   "metadata": {},
   "outputs": [],
   "source": [
    "# Separate the y variable, the labels\n",
    "y = df_lending_data[\"loan_status\"]\n",
    "\n",
    "# Separate the X variable, the features\n",
    "X = df_lending_data.drop(columns=\"loan_status\")"
   ]
  },
  {
   "cell_type": "markdown",
   "metadata": {},
   "source": [
    "### Reviewing Target Variable\n",
    "\n",
    "- Displays summary statistics of the `y` variable (loan_status) using the `describe()` function."
   ]
  },
  {
   "cell_type": "code",
   "execution_count": 9,
   "metadata": {},
   "outputs": [
    {
     "data": {
      "text/plain": [
       "count    77536.000000\n",
       "mean         0.032243\n",
       "std          0.176646\n",
       "min          0.000000\n",
       "25%          0.000000\n",
       "50%          0.000000\n",
       "75%          0.000000\n",
       "max          1.000000\n",
       "Name: loan_status, dtype: float64"
      ]
     },
     "execution_count": 9,
     "metadata": {},
     "output_type": "execute_result"
    }
   ],
   "source": [
    "y.describe()"
   ]
  },
  {
   "cell_type": "markdown",
   "metadata": {},
   "source": [
    "### Reviewing Feature Variables\n",
    "\n",
    "- Displays the first few rows of the DataFrame `X` to inspect the feature variables."
   ]
  },
  {
   "cell_type": "code",
   "execution_count": 10,
   "metadata": {},
   "outputs": [
    {
     "data": {
      "text/html": [
       "<div>\n",
       "<style scoped>\n",
       "    .dataframe tbody tr th:only-of-type {\n",
       "        vertical-align: middle;\n",
       "    }\n",
       "\n",
       "    .dataframe tbody tr th {\n",
       "        vertical-align: top;\n",
       "    }\n",
       "\n",
       "    .dataframe thead th {\n",
       "        text-align: right;\n",
       "    }\n",
       "</style>\n",
       "<table border=\"1\" class=\"dataframe\">\n",
       "  <thead>\n",
       "    <tr style=\"text-align: right;\">\n",
       "      <th></th>\n",
       "      <th>loan_size</th>\n",
       "      <th>interest_rate</th>\n",
       "      <th>borrower_income</th>\n",
       "      <th>debt_to_income</th>\n",
       "      <th>num_of_accounts</th>\n",
       "      <th>derogatory_marks</th>\n",
       "      <th>total_debt</th>\n",
       "    </tr>\n",
       "  </thead>\n",
       "  <tbody>\n",
       "    <tr>\n",
       "      <th>0</th>\n",
       "      <td>10700.0</td>\n",
       "      <td>7.672</td>\n",
       "      <td>52800</td>\n",
       "      <td>0.431818</td>\n",
       "      <td>5</td>\n",
       "      <td>1</td>\n",
       "      <td>22800</td>\n",
       "    </tr>\n",
       "    <tr>\n",
       "      <th>1</th>\n",
       "      <td>8400.0</td>\n",
       "      <td>6.692</td>\n",
       "      <td>43600</td>\n",
       "      <td>0.311927</td>\n",
       "      <td>3</td>\n",
       "      <td>0</td>\n",
       "      <td>13600</td>\n",
       "    </tr>\n",
       "    <tr>\n",
       "      <th>2</th>\n",
       "      <td>9000.0</td>\n",
       "      <td>6.963</td>\n",
       "      <td>46100</td>\n",
       "      <td>0.349241</td>\n",
       "      <td>3</td>\n",
       "      <td>0</td>\n",
       "      <td>16100</td>\n",
       "    </tr>\n",
       "    <tr>\n",
       "      <th>3</th>\n",
       "      <td>10700.0</td>\n",
       "      <td>7.664</td>\n",
       "      <td>52700</td>\n",
       "      <td>0.430740</td>\n",
       "      <td>5</td>\n",
       "      <td>1</td>\n",
       "      <td>22700</td>\n",
       "    </tr>\n",
       "    <tr>\n",
       "      <th>4</th>\n",
       "      <td>10800.0</td>\n",
       "      <td>7.698</td>\n",
       "      <td>53000</td>\n",
       "      <td>0.433962</td>\n",
       "      <td>5</td>\n",
       "      <td>1</td>\n",
       "      <td>23000</td>\n",
       "    </tr>\n",
       "  </tbody>\n",
       "</table>\n",
       "</div>"
      ],
      "text/plain": [
       "   loan_size  interest_rate  borrower_income  debt_to_income  num_of_accounts  \\\n",
       "0    10700.0          7.672            52800        0.431818                5   \n",
       "1     8400.0          6.692            43600        0.311927                3   \n",
       "2     9000.0          6.963            46100        0.349241                3   \n",
       "3    10700.0          7.664            52700        0.430740                5   \n",
       "4    10800.0          7.698            53000        0.433962                5   \n",
       "\n",
       "   derogatory_marks  total_debt  \n",
       "0                 1       22800  \n",
       "1                 0       13600  \n",
       "2                 0       16100  \n",
       "3                 1       22700  \n",
       "4                 1       23000  "
      ]
     },
     "execution_count": 10,
     "metadata": {},
     "output_type": "execute_result"
    }
   ],
   "source": [
    "X.head()"
   ]
  },
  {
   "cell_type": "markdown",
   "metadata": {},
   "source": [
    "### Checking Target Value Balance\n",
    "\n",
    "- Counts occurrences of each unique value in the `y` variable (loan_status) to check target value balance."
   ]
  },
  {
   "cell_type": "code",
   "execution_count": 11,
   "metadata": {},
   "outputs": [
    {
     "data": {
      "text/plain": [
       "0    75036\n",
       "1     2500\n",
       "Name: loan_status, dtype: int64"
      ]
     },
     "execution_count": 11,
     "metadata": {},
     "output_type": "execute_result"
    }
   ],
   "source": [
    "y.value_counts()"
   ]
  },
  {
   "cell_type": "markdown",
   "metadata": {},
   "source": [
    "### Splitting Data into Train and Test Sets\n",
    "\n",
    "- Splits data into training and testing datasets using `train_test_split` with a `random_state = 1`.\n",
    "\n",
    "**Note:**\n",
    "- the `random_state` parameter allows is used to  set a fixed seed value for the random number generator. This seed value ensures that the data split is reproducible\n",
    "- Means that running the code with the same `random_state` value will always produce the same split."
   ]
  },
  {
   "cell_type": "code",
   "execution_count": 12,
   "metadata": {},
   "outputs": [],
   "source": [
    "X_train, X_test, y_train, y_test = train_test_split(X, y, random_state=1)"
   ]
  },
  {
   "cell_type": "markdown",
   "metadata": {},
   "source": [
    "---"
   ]
  },
  {
   "cell_type": "markdown",
   "metadata": {},
   "source": [
    "### Instantiating Logistic Regression Model and Fitting the Logistic Regression Model\n",
    "\n",
    "- Creates an instance of the logistic regression model with a `random_state = 1`.\n",
    "- Fits the logistic regression model using the training data (`X_train` and `y_train`)."
   ]
  },
  {
   "cell_type": "code",
   "execution_count": 13,
   "metadata": {},
   "outputs": [],
   "source": [
    "# Instantiate the Logistic Regression model\n",
    "logistic_regression_model = LogisticRegression(random_state=1)\n",
    "\n",
    "# Fit the model using training data\n",
    "lr_model_fit = logistic_regression_model.fit(X_train, y_train)"
   ]
  },
  {
   "cell_type": "markdown",
   "metadata": {},
   "source": [
    "### Making Predictions with Logistic Regression Model\n",
    "\n",
    "- Use the trained (fitted) logistic regression model to predict loan risk labels for the testing data (`X_test`)."
   ]
  },
  {
   "cell_type": "code",
   "execution_count": 14,
   "metadata": {},
   "outputs": [],
   "source": [
    "# Make a prediction using the testing data\n",
    "testing_predictions = lr_model_fit.predict(X_test)"
   ]
  },
  {
   "cell_type": "markdown",
   "metadata": {},
   "source": [
    "### To  evaluate the model’s performance:\n",
    "\n",
    "- Calculate the Balanced Accuracy Score:\n",
    "    - The balanced accuracy score calculates the accuracy of a classification model while considering imbalanced classes, providing a fair evaluation by giving equal weight to each class.\n",
    "\n",
    "- Generate the Confusion Matrix\n",
    "    - The confusion matrix displays the count of correct and incorrect predictions for each class in a classification model, helping to assess the model's performance and identify potential misclassifications.\n",
    "    \n",
    "- Print the Classification Report\n",
    "    - The classification report provides a comprehensive evaluation of a classification model's performance, including precision, recall, F1-score, and support for each class, aiding in assessing the model's effectiveness for different classes."
   ]
  },
  {
   "cell_type": "markdown",
   "metadata": {},
   "source": [
    "### Calculate the  Balanced Accuracy Score\n",
    "\n",
    "- Calculate the balanced accuracy score for the logistic regression model's predictions on the testing data."
   ]
  },
  {
   "cell_type": "code",
   "execution_count": 15,
   "metadata": {},
   "outputs": [
    {
     "name": "stdout",
     "output_type": "stream",
     "text": [
      "Balanced Accuracy Score: 0.9520479254722232\n"
     ]
    }
   ],
   "source": [
    "# Calculate the balanced accuracy score\n",
    "# Print the balanced_accuracy score of the model\n",
    "balanced_accuracy = balanced_accuracy_score(y_test, testing_predictions)\n",
    "print(\"Balanced Accuracy Score:\", balanced_accuracy)"
   ]
  },
  {
   "cell_type": "markdown",
   "metadata": {},
   "source": [
    "### Generate the Confusion Matrix\n",
    "\n",
    "- Generate a confusion matrix for the logistic regression model's predictions on the testing data."
   ]
  },
  {
   "cell_type": "code",
   "execution_count": 16,
   "metadata": {},
   "outputs": [
    {
     "name": "stdout",
     "output_type": "stream",
     "text": [
      "Confusion Matrix:\n",
      "[[18663   102]\n",
      " [   56   563]]\n"
     ]
    }
   ],
   "source": [
    "# Generate a confusion matrix for the model\n",
    "conf_matrix = confusion_matrix(y_test, testing_predictions)\n",
    "print(\"Confusion Matrix:\")\n",
    "print(conf_matrix)"
   ]
  },
  {
   "cell_type": "markdown",
   "metadata": {},
   "source": [
    "### Print the Classification Report\n",
    "\n",
    "- Print the classification report for the logistic regression model's predictions on the testing data."
   ]
  },
  {
   "cell_type": "code",
   "execution_count": 17,
   "metadata": {},
   "outputs": [
    {
     "name": "stdout",
     "output_type": "stream",
     "text": [
      "Classification Report:\n",
      "              precision    recall  f1-score   support\n",
      "\n",
      "           0       1.00      0.99      1.00     18765\n",
      "           1       0.85      0.91      0.88       619\n",
      "\n",
      "    accuracy                           0.99     19384\n",
      "   macro avg       0.92      0.95      0.94     19384\n",
      "weighted avg       0.99      0.99      0.99     19384\n",
      "\n"
     ]
    }
   ],
   "source": [
    "# Print the classification report for the model\n",
    "print(\"Classification Report:\")\n",
    "print(classification_report(y_test, testing_predictions))"
   ]
  },
  {
   "cell_type": "markdown",
   "metadata": {},
   "source": [
    "### How well does the logistic regression model predict both the `0` (healthy loan) and `1` (high-risk loan) labels?\n",
    "\n",
    "**Answer:**  The logistic regression model performs well in predicting both the 0 (healthy loan) and 1 (high-risk loan) labels, with high precision and recall scores for both classes. \n",
    "- For the `0` (health loan) class: High precision (1.00) and high recall (0.99) indicates the model is almost always correct.\n",
    "- For the `1` (high-risk loan) class: The precision(0.85) was not perfect but still high, and the recall (0.91) was also high but not as accurate as for predicting the healthy loans.\n",
    "\n",
    "**Note:** Precision measures the proportion of true positive predictions.\n",
    "- Precision (Positive Prediction Value) = True Positives / (True Positives + False Positives).\n",
    "    - (i.e. - The proportion of accurately predicted loans as True out of all predictions (both inaccurately and accurately) predicting a loan as healthy)\n",
    "- Recall (Sensitivity) = True Positives / (True Positives + False Negatives).\n",
    "    - (i.e. - The proportion of accurately predicted loans as True out of all loans which are actually True)"
   ]
  },
  {
   "cell_type": "markdown",
   "metadata": {},
   "source": [
    "---"
   ]
  },
  {
   "cell_type": "markdown",
   "metadata": {},
   "source": [
    "### Using Resampled Data, Use a Logistic Regression Model to Predict the Credit Risk Level of Borrowers\n",
    "\n",
    "**Note:**\n",
    "\n",
    "- Confirm that the labels have an equal number of data points.\n",
    "    - When using the `RandomOverSampler`, the goal is to increase the number of samples in the minority class (in this case, high-risk loans) to balance the class distribution.\n",
    "    - It is essential to avoid overfitting and preserve the original data's integrity.\n",
    "    - If the number of synthetic samples generated for the minority class is excessively high, it may cause the model to memorize the training data rather than learning meaningful patterns.\n",
    "    - This can result in poor performance on new, unseen data."
   ]
  },
  {
   "cell_type": "markdown",
   "metadata": {},
   "source": [
    "### Instantiate the Random Oversampler Model and Resample the Training Data with `RandomOversampler`\n",
    "\n",
    "- Create an instance of the random oversampler model with a `random_state = 1`.\n",
    "- Fits the original training data (`X_train` and `y_train`) to the random oversampler model to create a balanced dataset.\n",
    "\n",
    "**Note:**\n",
    "- Using the `RandomOverSampler` model for logistic regression predictions aims to balance the dataset by generating synthetic samples of the minority class, thus improving model performance and mitigating biases caused by class imbalance.\n",
    "- The minority class refers to the class with fewer instances or samples in a dataset compared to other classes, often resulting in an imbalanced class distribution (in this case healthy loans (`loan_status = 0`) and high-risk loans (`loan_status = 1`) are the two classes)."
   ]
  },
  {
   "cell_type": "code",
   "execution_count": 18,
   "metadata": {},
   "outputs": [],
   "source": [
    "# # Assign a random_state parameter of 1 to the model\n",
    "random_oversampler_model = RandomOverSampler(random_state=1)\n",
    "\n",
    "# Fit the original training data to the random_oversampler model\n",
    "X_train_resampled, y_train_resampled = random_oversampler_model.fit_resample(X_train, y_train)"
   ]
  },
  {
   "cell_type": "markdown",
   "metadata": {},
   "source": [
    "### Counting Resampled Labels\n",
    "\n",
    "- Count and print the distinct values in the resampled training labels (`y_train_resampled``) to check the oversampling effect."
   ]
  },
  {
   "cell_type": "code",
   "execution_count": 19,
   "metadata": {},
   "outputs": [
    {
     "name": "stdout",
     "output_type": "stream",
     "text": [
      "0    56271\n",
      "1    56271\n",
      "Name: loan_status, dtype: int64\n"
     ]
    }
   ],
   "source": [
    "# Count the distinct values of the resampled labels data\n",
    "distinct_values_count = pd.Series(y_train_resampled).value_counts()\n",
    "\n",
    "print(distinct_values_count)"
   ]
  },
  {
   "cell_type": "markdown",
   "metadata": {},
   "source": [
    "### Instantiate, Fit, Predict with the Logistic Regression Model of the Resampled data.\n",
    "\n",
    "- Create a new instance of the logistic regression model with a `random_state = 1` for the resampled data.\n",
    "- Fit the logistic regression model using the resampled training data (`X_train_resampled` and `y_train_resampled`).\n",
    "- Use the trained logistic regression model with the resampled data to predict loan risk labels for the testing data (`X_test`).\n",
    "\n",
    "**Note:**\n",
    "- The resambled data, in this case, is oversampled to increase the representation fo the minority class (high-risk loans) in the dataset."
   ]
  },
  {
   "cell_type": "code",
   "execution_count": 20,
   "metadata": {},
   "outputs": [],
   "source": [
    "logistic_regression_model = LogisticRegression(random_state=1)\n",
    "\n",
    "# Fit the model using the resampled training data\n",
    "lr_model_resampled = logistic_regression_model.fit(X_train_resampled, y_train_resampled)\n",
    "\n",
    "# Make a prediction using the testing data\n",
    "testing_predictions_resampled = logistic_regression_model.predict(X_test)"
   ]
  },
  {
   "cell_type": "markdown",
   "metadata": {},
   "source": [
    "### Calculate the Balanced Accuracy Score (Resampled)\n",
    "\n",
    "- Calculate the balanced accuracy score for the logistic regression model's predictions on the testing data with resampled model."
   ]
  },
  {
   "cell_type": "code",
   "execution_count": 21,
   "metadata": {},
   "outputs": [
    {
     "name": "stdout",
     "output_type": "stream",
     "text": [
      "Balanced Accuracy Score: 0.9936781215845847\n"
     ]
    }
   ],
   "source": [
    "# Calculate the balanced accuracy score\n",
    "# Print the balanced_accuracy score of the model\n",
    "balanced_accuracy = balanced_accuracy_score(y_test, testing_predictions_resampled)\n",
    "print(\"Balanced Accuracy Score:\", balanced_accuracy)"
   ]
  },
  {
   "cell_type": "markdown",
   "metadata": {},
   "source": [
    "### Generate the Confusion Matrix (Resampled)\n",
    "\n",
    "- Generate a confusion matrix for the logistic regression model's predictions on the testing data with resampled model."
   ]
  },
  {
   "cell_type": "code",
   "execution_count": 22,
   "metadata": {},
   "outputs": [
    {
     "name": "stdout",
     "output_type": "stream",
     "text": [
      "Confusion Matrix:\n",
      "[[18649   116]\n",
      " [    4   615]]\n"
     ]
    }
   ],
   "source": [
    "# Generate a confusion matrix for the model\n",
    "conf_matrix = confusion_matrix(y_test, testing_predictions_resampled)\n",
    "print(\"Confusion Matrix:\")\n",
    "print(conf_matrix)"
   ]
  },
  {
   "cell_type": "markdown",
   "metadata": {},
   "source": [
    "### Print the Classification Report (Resampled)\n",
    "P\n",
    "- rint the classification report for the logistic regression model's predictions on the testing data with the resampled model."
   ]
  },
  {
   "cell_type": "code",
   "execution_count": 23,
   "metadata": {},
   "outputs": [
    {
     "name": "stdout",
     "output_type": "stream",
     "text": [
      "Classification Report:\n",
      "              precision    recall  f1-score   support\n",
      "\n",
      "           0       1.00      0.99      1.00     18765\n",
      "           1       0.84      0.99      0.91       619\n",
      "\n",
      "    accuracy                           0.99     19384\n",
      "   macro avg       0.92      0.99      0.95     19384\n",
      "weighted avg       0.99      0.99      0.99     19384\n",
      "\n"
     ]
    }
   ],
   "source": [
    "# Print the classification report for the model\n",
    "print(\"Classification Report:\")\n",
    "print(classification_report(y_test, testing_predictions_resampled))"
   ]
  },
  {
   "cell_type": "markdown",
   "metadata": {},
   "source": [
    "### How well does the logistic regression model, fit with oversampled data, predict both the `0` (healthy loan) and `1` (high-risk loan) labels?\n",
    "\n",
    "**Answer:**\n",
    "- Looking back at the original imbalanced data of `75036` instances of healthy loans compared tothe  `2500` instances of high-risk laons, the resampled model improved the Balanced Accuracy score from `~0.952` to `~0.9937` and improved the recall for the high-risk loans from `91 % accuracy` to `99% accuracy` with a slighty decrease in precision for the high-risk laons, dropping from `85% accuracy` to `84% accuracy`. These results support a case for using oversampling to address the original imbalanced data.\n",
    "\n",
    "**Note:** Oversampling, in the context of binary classification, generates additional synthetic samples for the minority class so that both classes have a more balanced representation in the dataset."
   ]
  }
 ],
 "metadata": {
  "kernelspec": {
   "display_name": "base",
   "language": "python",
   "name": "python3"
  },
  "language_info": {
   "codemirror_mode": {
    "name": "ipython",
    "version": 3
   },
   "file_extension": ".py",
   "mimetype": "text/x-python",
   "name": "python",
   "nbconvert_exporter": "python",
   "pygments_lexer": "ipython3",
   "version": "3.9.13"
  }
 },
 "nbformat": 4,
 "nbformat_minor": 4
}
